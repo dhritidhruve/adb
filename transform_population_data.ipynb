{
 "cells": [
  {
   "cell_type": "markdown",
   "metadata": {
    "application/vnd.databricks.v1+cell": {
     "cellMetadata": {},
     "inputWidgets": {},
     "nuid": "b31ce907-7315-484f-adaa-1af4b27b9806",
     "showTitle": false,
     "title": ""
    }
   },
   "source": [
    "Transform Population By Age data\n",
    "1. Split the country code & age group\n",
    "2. Exclude all data other than 2019\n",
    "3. Remove non numeric data from percentage\n",
    "4. Pivot the data by age group\n",
    "5. Join to dim_country to get the country, 3 digit country code and the total population."
   ]
  },
  {
   "cell_type": "code",
   "execution_count": 0,
   "metadata": {
    "application/vnd.databricks.v1+cell": {
     "cellMetadata": {
      "byteLimit": 2048000,
      "rowLimit": 10000
     },
     "inputWidgets": {},
     "nuid": "ea4fa4a8-025d-4c41-a3de-b3a460cd880b",
     "showTitle": false,
     "title": ""
    }
   },
   "outputs": [],
   "source": [
    "from pyspark.sql.functions import *"
   ]
  },
  {
   "cell_type": "code",
   "execution_count": 0,
   "metadata": {
    "application/vnd.databricks.v1+cell": {
     "cellMetadata": {
      "byteLimit": 2048000,
      "rowLimit": 10000
     },
     "inputWidgets": {},
     "nuid": "20c8a571-20f7-405c-aff4-112bf26f9900",
     "showTitle": false,
     "title": ""
    }
   },
   "outputs": [
    {
     "output_type": "stream",
     "name": "stdout",
     "output_type": "stream",
     "text": [
      "+-----------------+-----+-----+-----+------+-----+-----+-----+-----+-----+-----+-----+-----+\n|indic_de,geo\\time|2008 |2009 |2010 | 2011 |2012 |2013 |2014 |2015 |2016 |2017 |2018 |2019 |\n+-----------------+-----+-----+-----+------+-----+-----+-----+-----+-----+-----+-----+-----+\n|      PC_Y0_14,AD|14.6 |14.5 |14.5 | 15.5 |15.5 |15.5 |   : |   : |   : |   : |   : |13.9 |\n|      PC_Y0_14,AL|24.1 |23.3 |22.5 | 21.6 |20.7 |20.1 |19.6 |19.0 |18.5 |18.2 |17.7 |17.2 |\n|      PC_Y0_14,AM|19.0 |18.6 |18.3 |    : |   : |   : |   : |19.4 |19.6 |20.0 |20.2 |20.2 |\n|      PC_Y0_14,AT|15.4 |15.1 |14.9 | 14.7 |14.6 |14.4 |14.3 |14.3 |14.3 |14.4 |14.4 |14.4 |\n|      PC_Y0_14,AZ|23.2 |22.6 |22.6 | 22.3 |22.2 |22.3 |22.4 |22.4 |22.5 |22.6 |22.6 |22.4 |\n|      PC_Y0_14,BE|16.9 |16.9 |16.9 |17.0 b|17.0 |17.0 |17.0 |17.0 |17.0 |17.0 |17.0 |16.9 |\n|      PC_Y0_14,BG|13.1 |13.1 |13.2 | 13.2 |13.4 |13.6 |13.7 |13.9 |14.0 |14.1 |14.2 |14.4 |\n|      PC_Y0_14,BY|14.7 |14.6 |   : | 14.9 |15.1 |15.4 |15.7 |16.0 |16.3 |16.6 |16.8 |16.9 |\n|      PC_Y0_14,CH|15.5 |15.3 |15.2 |15.1 b|15.0 |14.9 |14.9 |14.9 |14.9 |14.9 |15.0 |15.0 |\n|      PC_Y0_14,CY|18.2 |17.7 |17.2 | 16.8 |16.5 |16.4 |16.3 |16.4 |16.4 |16.3 |16.2 |16.1 |\n+-----------------+-----+-----+-----+------+-----+-----+-----+-----+-----+-----+-----+-----+\nonly showing top 10 rows\n\n"
     ]
    }
   ],
   "source": [
    "df_raw_population = spark.read.csv(\"/FileStore/newadlsgen2acc/raw/population\", sep=r'\\t', header=True)\n",
    "df_raw_population.show(10)"
   ]
  },
  {
   "cell_type": "code",
   "execution_count": 0,
   "metadata": {
    "application/vnd.databricks.v1+cell": {
     "cellMetadata": {
      "byteLimit": 2048000,
      "rowLimit": 10000
     },
     "inputWidgets": {},
     "nuid": "f243858b-855a-4539-9cf9-1e3c38ee45a8",
     "showTitle": false,
     "title": ""
    }
   },
   "outputs": [],
   "source": [
    "df_raw_population = df_raw_population\\\n",
    ".withColumn('age_group', regexp_replace(split(df_raw_population['indic_de,geo\\\\time'], ',')[0], 'PC_', ''))\\\n",
    ".withColumn('country_code', split(df_raw_population['indic_de,geo\\\\time'], ',')[1])\n",
    "\n",
    "df_raw_population = df_raw_population.select(col(\"country_code\"),col(\"age_group\"),col(\"2019 \").alias(\"percentage_2019\"))\n",
    "df_raw_population.createOrReplaceTempView(\"raw_population\")"
   ]
  },
  {
   "cell_type": "code",
   "execution_count": 0,
   "metadata": {
    "application/vnd.databricks.v1+cell": {
     "cellMetadata": {
      "byteLimit": 2048000,
      "rowLimit": 10000
     },
     "inputWidgets": {},
     "nuid": "0d6e5d00-c7ff-4e16-83e6-1602ae8230a4",
     "showTitle": false,
     "title": ""
    }
   },
   "outputs": [
    {
     "output_type": "stream",
     "name": "stdout",
     "output_type": "stream",
     "text": [
      "+------------+---------+---------------+\n|country_code|age_group|percentage_2019|\n+------------+---------+---------------+\n|          AD|    Y0_14|          13.9 |\n|          AL|    Y0_14|          17.2 |\n|          AM|    Y0_14|          20.2 |\n|          AT|    Y0_14|          14.4 |\n|          AZ|    Y0_14|          22.4 |\n+------------+---------+---------------+\nonly showing top 5 rows\n\n"
     ]
    }
   ],
   "source": [
    "df_raw_population.show(5)"
   ]
  },
  {
   "cell_type": "code",
   "execution_count": 0,
   "metadata": {
    "application/vnd.databricks.v1+cell": {
     "cellMetadata": {
      "byteLimit": 2048000,
      "rowLimit": 10000
     },
     "inputWidgets": {},
     "nuid": "6c312286-40fd-400d-88ec-f2a7acf4de9a",
     "showTitle": false,
     "title": ""
    }
   },
   "outputs": [
    {
     "output_type": "stream",
     "name": "stdout",
     "output_type": "stream",
     "text": [
      "+------------+---------+---------------+\n|country_code|age_group|percentage_2019|\n+------------+---------+---------------+\n|          AM|    Y0_14|          20.2 |\n|          AM|    Y0_14|          20.2 |\n|          AM|    Y0_14|          20.2 |\n|          AM|    Y0_14|          20.2 |\n|          AM|    Y0_14|          20.2 |\n|          AM|    Y0_14|          20.2 |\n+------------+---------+---------------+\n\n+------------+--------------------+\n|country_code|sum(percentage_2019)|\n+------------+--------------------+\n|          AM|                 120|\n+------------+--------------------+\n\n"
     ]
    }
   ],
   "source": [
    "df_raw_population.where((col('country_code')=='AM') & (col('age_group')=='Y0_14')).show()\n",
    "\n",
    "df_raw_population.where((col('country_code')=='AM') & (col('age_group')=='Y0_14')).withColumn('percentage_2019',col('percentage_2019').cast('decimal')).groupBy('country_code').sum('percentage_2019').show()"
   ]
  },
  {
   "cell_type": "code",
   "execution_count": 0,
   "metadata": {
    "application/vnd.databricks.v1+cell": {
     "cellMetadata": {
      "byteLimit": 2048000,
      "rowLimit": 10000
     },
     "inputWidgets": {},
     "nuid": "26a57c1a-a3f3-4da9-817a-5850ed0582c4",
     "showTitle": false,
     "title": ""
    }
   },
   "outputs": [
    {
     "output_type": "stream",
     "name": "stdout",
     "output_type": "stream",
     "text": [
      "+------------+------+------+------+------+------+-------+\n|country_code| Y0_14|Y15_24|Y25_49|Y50_64|Y65_79|Y80_MAX|\n+------------+------+------+------+------+------+-------+\n|          AD| 83.40| 63.60|236.40|135.00| 61.20|  20.40|\n|          AL|103.20| 93.00|198.00|121.20| 68.40|  16.20|\n|          AM|121.20| 70.80|221.40|114.60| 54.00|  18.00|\n|          AT| 86.40| 65.40|204.00|130.20| 82.80|  30.00|\n|          AZ|134.40| 84.60|234.60|105.60| 31.80|   9.00|\n|          BE|101.40| 68.40|196.20|120.60| 79.80|  33.60|\n|          BG| 86.40| 53.40|210.00|122.40| 99.00|  28.80|\n|          BY|101.40| 59.40|219.60|127.80| 67.80|  23.40|\n|          CH| 90.00| 63.60|210.00|125.40| 79.80|  31.20|\n|          CY| 96.60| 76.80|222.60|107.40| 75.00|  22.20|\n+------------+------+------+------+------+------+-------+\nonly showing top 10 rows\n\n"
     ]
    }
   ],
   "source": [
    "df_raw_population_pivot = spark.sql(\"SELECT country_code, age_group, cast(regexp_replace(percentage_2019, '[a-z]', '') AS decimal(4,2)) AS percentage_2019 FROM raw_population WHERE length(country_code) = 2\").groupBy(\"country_code\").pivot(\"age_group\").sum(\"percentage_2019\").orderBy(\"country_code\")\n",
    "df_raw_population_pivot.show(10)\n",
    "\n",
    "df_raw_population_pivot.createOrReplaceTempView(\"raw_population_pivot\")"
   ]
  },
  {
   "cell_type": "code",
   "execution_count": 0,
   "metadata": {
    "application/vnd.databricks.v1+cell": {
     "cellMetadata": {
      "byteLimit": 2048000,
      "rowLimit": 10000
     },
     "inputWidgets": {},
     "nuid": "0b8326ec-085c-461f-8cb9-4ec1e804f255",
     "showTitle": false,
     "title": ""
    }
   },
   "outputs": [],
   "source": [
    "df_dim_country = spark.read.csv(\"/FileStore/newadlsgen2acc/lookup/dim_country\", sep=r',', header=True)\n",
    "df_dim_country.createOrReplaceTempView(\"dim_country\")"
   ]
  },
  {
   "cell_type": "code",
   "execution_count": 0,
   "metadata": {
    "application/vnd.databricks.v1+cell": {
     "cellMetadata": {
      "byteLimit": 2048000,
      "rowLimit": 10000
     },
     "inputWidgets": {},
     "nuid": "4831fea6-7a52-4103-b7a5-70df23ea1082",
     "showTitle": false,
     "title": ""
    }
   },
   "outputs": [],
   "source": [
    "df_processed_population = spark.sql(\"\"\"SELECT c.country,\n",
    "       c.country_code_2_digit,\n",
    "       c.country_code_3_digit,\n",
    "       c.population,\n",
    "       p.Y0_14  AS age_group_0_14,\n",
    "       p.Y15_24 AS age_group_15_24,\n",
    "       p.Y25_49 AS age_group_25_49,\n",
    "       p.Y50_64 AS age_group_50_64, \n",
    "       p.Y65_79 AS age_group_65_79,\n",
    "       p.Y80_MAX AS age_group_80_max\n",
    "  FROM raw_population_pivot p\n",
    "  JOIN dim_country c ON p.country_code = country_code_2_digit\n",
    " ORDER BY country\"\"\")"
   ]
  },
  {
   "cell_type": "code",
   "execution_count": 0,
   "metadata": {
    "application/vnd.databricks.v1+cell": {
     "cellMetadata": {
      "byteLimit": 2048000,
      "rowLimit": 10000
     },
     "inputWidgets": {},
     "nuid": "997150bd-58af-4406-a9b2-c3964f308761",
     "showTitle": false,
     "title": ""
    }
   },
   "outputs": [],
   "source": [
    "df_processed_population.write.format(\"com.databricks.spark.csv\").option(\"header\",\"true\").option(\"delimiter\", \",\").mode(\"overwrite\").save(\"/mnt/newadlsgen2acc/processed/population\")"
   ]
  },
  {
   "cell_type": "code",
   "execution_count": 0,
   "metadata": {
    "application/vnd.databricks.v1+cell": {
     "cellMetadata": {
      "byteLimit": 2048000,
      "rowLimit": 10000
     },
     "inputWidgets": {},
     "nuid": "68d87a23-3c76-4d3b-baec-3559a69232ae",
     "showTitle": false,
     "title": ""
    }
   },
   "outputs": [
    {
     "output_type": "stream",
     "name": "stdout",
     "output_type": "stream",
     "text": [
      "+-------+--------------------+--------------------+----------+--------------+---------------+---------------+---------------+---------------+----------------+\n|country|country_code_2_digit|country_code_3_digit|population|age_group_0_14|age_group_15_24|age_group_25_49|age_group_50_64|age_group_65_79|age_group_80_max|\n+-------+--------------------+--------------------+----------+--------------+---------------+---------------+---------------+---------------+----------------+\n|Albania|                  AL|                 ALB|   2862427|        103.20|          93.00|         198.00|         121.20|          68.40|           16.20|\n|Albania|                  AL|                 ALB|   2862427|        103.20|          93.00|         198.00|         121.20|          68.40|           16.20|\n|Albania|                  AL|                 ALB|   2862427|        103.20|          93.00|         198.00|         121.20|          68.40|           16.20|\n|Albania|                  AL|                 ALB|   2862427|        103.20|          93.00|         198.00|         121.20|          68.40|           16.20|\n|Andorra|                  AD|                 AND|     76177|         83.40|          63.60|         236.40|         135.00|          61.20|           20.40|\n+-------+--------------------+--------------------+----------+--------------+---------------+---------------+---------------+---------------+----------------+\nonly showing top 5 rows\n\n"
     ]
    }
   ],
   "source": [
    "spark.read.option(\"header\",\"true\").csv(\"/mnt/newadlsgen2acc/processed/population\").show(5)"
   ]
  }
 ],
 "metadata": {
  "application/vnd.databricks.v1+notebook": {
   "dashboards": [],
   "language": "python",
   "notebookMetadata": {
    "pythonIndentUnit": 4
   },
   "notebookName": "transform_population_data",
   "widgets": {}
  }
 },
 "nbformat": 4,
 "nbformat_minor": 0
}
